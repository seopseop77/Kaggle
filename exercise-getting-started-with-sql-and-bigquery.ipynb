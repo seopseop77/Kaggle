{
 "cells": [
  {
   "cell_type": "markdown",
   "id": "0b2abce4",
   "metadata": {
    "papermill": {
     "duration": 0.005067,
     "end_time": "2024-12-03T01:31:00.046674",
     "exception": false,
     "start_time": "2024-12-03T01:31:00.041607",
     "status": "completed"
    },
    "tags": []
   },
   "source": [
    "**This notebook is an exercise in the [SQL](https://www.kaggle.com/learn/intro-to-sql) course.  You can reference the tutorial at [this link](https://www.kaggle.com/dansbecker/getting-started-with-sql-and-bigquery).**\n",
    "\n",
    "---\n"
   ]
  },
  {
   "cell_type": "markdown",
   "id": "bd2f0062",
   "metadata": {
    "papermill": {
     "duration": 0.003908,
     "end_time": "2024-12-03T01:31:00.055484",
     "exception": false,
     "start_time": "2024-12-03T01:31:00.051576",
     "status": "completed"
    },
    "tags": []
   },
   "source": [
    "# Introduction\n",
    "\n",
    "The first test of your new data exploration skills uses data describing crime in the city of Chicago.\n",
    "\n",
    "Before you get started, run the following cell. It sets up the automated feedback system to review your answers."
   ]
  },
  {
   "cell_type": "code",
   "execution_count": 1,
   "id": "f6912800",
   "metadata": {
    "execution": {
     "iopub.execute_input": "2024-12-03T01:31:00.065618Z",
     "iopub.status.busy": "2024-12-03T01:31:00.065235Z",
     "iopub.status.idle": "2024-12-03T01:31:07.527319Z",
     "shell.execute_reply": "2024-12-03T01:31:07.525838Z"
    },
    "papermill": {
     "duration": 7.469806,
     "end_time": "2024-12-03T01:31:07.529560",
     "exception": false,
     "start_time": "2024-12-03T01:31:00.059754",
     "status": "completed"
    },
    "tags": []
   },
   "outputs": [
    {
     "name": "stdout",
     "output_type": "stream",
     "text": [
      "Using Kaggle's public dataset BigQuery integration.\n",
      "Setup Complete\n"
     ]
    }
   ],
   "source": [
    "# Set up feedack system\n",
    "from learntools.core import binder\n",
    "binder.bind(globals())\n",
    "from learntools.sql.ex1 import *\n",
    "print(\"Setup Complete\")"
   ]
  },
  {
   "cell_type": "markdown",
   "id": "9bd06d01",
   "metadata": {
    "papermill": {
     "duration": 0.005302,
     "end_time": "2024-12-03T01:31:07.539589",
     "exception": false,
     "start_time": "2024-12-03T01:31:07.534287",
     "status": "completed"
    },
    "tags": []
   },
   "source": [
    "Use the next code cell to fetch the dataset."
   ]
  },
  {
   "cell_type": "code",
   "execution_count": 2,
   "id": "ecae833e",
   "metadata": {
    "execution": {
     "iopub.execute_input": "2024-12-03T01:31:07.550298Z",
     "iopub.status.busy": "2024-12-03T01:31:07.549706Z",
     "iopub.status.idle": "2024-12-03T01:31:08.535634Z",
     "shell.execute_reply": "2024-12-03T01:31:08.534413Z"
    },
    "papermill": {
     "duration": 0.994125,
     "end_time": "2024-12-03T01:31:08.538106",
     "exception": false,
     "start_time": "2024-12-03T01:31:07.543981",
     "status": "completed"
    },
    "tags": []
   },
   "outputs": [
    {
     "name": "stdout",
     "output_type": "stream",
     "text": [
      "Using Kaggle's public dataset BigQuery integration.\n"
     ]
    }
   ],
   "source": [
    "from google.cloud import bigquery\n",
    "\n",
    "# Create a \"Client\" object\n",
    "client = bigquery.Client()\n",
    "\n",
    "# Construct a reference to the \"chicago_crime\" dataset\n",
    "dataset_ref = client.dataset(\"chicago_crime\", project=\"bigquery-public-data\")\n",
    "\n",
    "# API request - fetch the dataset\n",
    "dataset = client.get_dataset(dataset_ref)"
   ]
  },
  {
   "cell_type": "markdown",
   "id": "94827fff",
   "metadata": {
    "papermill": {
     "duration": 0.004128,
     "end_time": "2024-12-03T01:31:08.546838",
     "exception": false,
     "start_time": "2024-12-03T01:31:08.542710",
     "status": "completed"
    },
    "tags": []
   },
   "source": [
    "# Exercises\n",
    "\n",
    "### 1) Count tables in the dataset\n",
    "\n",
    "How many tables are in the Chicago Crime dataset?"
   ]
  },
  {
   "cell_type": "code",
   "execution_count": 3,
   "id": "cf95e31c",
   "metadata": {
    "execution": {
     "iopub.execute_input": "2024-12-03T01:31:08.557299Z",
     "iopub.status.busy": "2024-12-03T01:31:08.556922Z",
     "iopub.status.idle": "2024-12-03T01:31:09.507924Z",
     "shell.execute_reply": "2024-12-03T01:31:09.506760Z"
    },
    "papermill": {
     "duration": 0.959185,
     "end_time": "2024-12-03T01:31:09.510445",
     "exception": false,
     "start_time": "2024-12-03T01:31:08.551260",
     "status": "completed"
    },
    "tags": []
   },
   "outputs": [
    {
     "data": {
      "text/plain": [
       "1"
      ]
     },
     "execution_count": 3,
     "metadata": {},
     "output_type": "execute_result"
    }
   ],
   "source": [
    "# Write the code you need here to figure out the answer\n",
    "table = list(client.list_tables(dataset))\n",
    "len(table)"
   ]
  },
  {
   "cell_type": "code",
   "execution_count": 4,
   "id": "3a67d40d",
   "metadata": {
    "execution": {
     "iopub.execute_input": "2024-12-03T01:31:09.521444Z",
     "iopub.status.busy": "2024-12-03T01:31:09.521049Z",
     "iopub.status.idle": "2024-12-03T01:31:09.530214Z",
     "shell.execute_reply": "2024-12-03T01:31:09.529188Z"
    },
    "papermill": {
     "duration": 0.017049,
     "end_time": "2024-12-03T01:31:09.532301",
     "exception": false,
     "start_time": "2024-12-03T01:31:09.515252",
     "status": "completed"
    },
    "tags": []
   },
   "outputs": [
    {
     "data": {
      "application/javascript": [
       "parent.postMessage({\"jupyterEvent\": \"custom.exercise_interaction\", \"data\": {\"outcomeType\": 1, \"valueTowardsCompletion\": 0.3333333333333333, \"interactionType\": 1, \"questionType\": 1, \"questionId\": \"1_CountTables\", \"learnToolsVersion\": \"0.3.4\", \"failureMessage\": \"\", \"exceptionClass\": \"\", \"trace\": \"\"}}, \"*\")"
      ],
      "text/plain": [
       "<IPython.core.display.Javascript object>"
      ]
     },
     "metadata": {},
     "output_type": "display_data"
    },
    {
     "data": {
      "text/markdown": [
       "<span style=\"color:#33cc33\">Correct</span>"
      ],
      "text/plain": [
       "Correct"
      ]
     },
     "metadata": {},
     "output_type": "display_data"
    }
   ],
   "source": [
    "num_tables = 1  # Store the answer as num_tables and then run this cell\n",
    "\n",
    "# Check your answer\n",
    "q_1.check()"
   ]
  },
  {
   "cell_type": "markdown",
   "id": "041b85ac",
   "metadata": {
    "papermill": {
     "duration": 0.004442,
     "end_time": "2024-12-03T01:31:09.541620",
     "exception": false,
     "start_time": "2024-12-03T01:31:09.537178",
     "status": "completed"
    },
    "tags": []
   },
   "source": [
    "For a hint or the solution, uncomment the appropriate line below."
   ]
  },
  {
   "cell_type": "code",
   "execution_count": 5,
   "id": "83825463",
   "metadata": {
    "execution": {
     "iopub.execute_input": "2024-12-03T01:31:09.552991Z",
     "iopub.status.busy": "2024-12-03T01:31:09.552561Z",
     "iopub.status.idle": "2024-12-03T01:31:09.556929Z",
     "shell.execute_reply": "2024-12-03T01:31:09.555894Z"
    },
    "papermill": {
     "duration": 0.013008,
     "end_time": "2024-12-03T01:31:09.559347",
     "exception": false,
     "start_time": "2024-12-03T01:31:09.546339",
     "status": "completed"
    },
    "tags": []
   },
   "outputs": [],
   "source": [
    "#q_1.hint()\n",
    "#q_1.solution()"
   ]
  },
  {
   "cell_type": "markdown",
   "id": "6a11dd1b",
   "metadata": {
    "papermill": {
     "duration": 0.004473,
     "end_time": "2024-12-03T01:31:09.568662",
     "exception": false,
     "start_time": "2024-12-03T01:31:09.564189",
     "status": "completed"
    },
    "tags": []
   },
   "source": [
    "### 2) Explore the table schema\n",
    "\n",
    "How many columns in the `crime` table have `TIMESTAMP` data?"
   ]
  },
  {
   "cell_type": "code",
   "execution_count": 6,
   "id": "2f02470e",
   "metadata": {
    "execution": {
     "iopub.execute_input": "2024-12-03T01:31:09.580835Z",
     "iopub.status.busy": "2024-12-03T01:31:09.579825Z",
     "iopub.status.idle": "2024-12-03T01:31:10.549804Z",
     "shell.execute_reply": "2024-12-03T01:31:10.548587Z"
    },
    "papermill": {
     "duration": 0.978243,
     "end_time": "2024-12-03T01:31:10.552130",
     "exception": false,
     "start_time": "2024-12-03T01:31:09.573887",
     "status": "completed"
    },
    "tags": []
   },
   "outputs": [
    {
     "data": {
      "text/plain": [
       "[SchemaField('unique_key', 'INTEGER', 'REQUIRED', None, (), None),\n",
       " SchemaField('case_number', 'STRING', 'NULLABLE', None, (), None),\n",
       " SchemaField('date', 'TIMESTAMP', 'NULLABLE', None, (), None),\n",
       " SchemaField('block', 'STRING', 'NULLABLE', None, (), None),\n",
       " SchemaField('iucr', 'STRING', 'NULLABLE', None, (), None),\n",
       " SchemaField('primary_type', 'STRING', 'NULLABLE', None, (), None),\n",
       " SchemaField('description', 'STRING', 'NULLABLE', None, (), None),\n",
       " SchemaField('location_description', 'STRING', 'NULLABLE', None, (), None),\n",
       " SchemaField('arrest', 'BOOLEAN', 'NULLABLE', None, (), None),\n",
       " SchemaField('domestic', 'BOOLEAN', 'NULLABLE', None, (), None),\n",
       " SchemaField('beat', 'INTEGER', 'NULLABLE', None, (), None),\n",
       " SchemaField('district', 'INTEGER', 'NULLABLE', None, (), None),\n",
       " SchemaField('ward', 'INTEGER', 'NULLABLE', None, (), None),\n",
       " SchemaField('community_area', 'INTEGER', 'NULLABLE', None, (), None),\n",
       " SchemaField('fbi_code', 'STRING', 'NULLABLE', None, (), None),\n",
       " SchemaField('x_coordinate', 'FLOAT', 'NULLABLE', None, (), None),\n",
       " SchemaField('y_coordinate', 'FLOAT', 'NULLABLE', None, (), None),\n",
       " SchemaField('year', 'INTEGER', 'NULLABLE', None, (), None),\n",
       " SchemaField('updated_on', 'TIMESTAMP', 'NULLABLE', None, (), None),\n",
       " SchemaField('latitude', 'FLOAT', 'NULLABLE', None, (), None),\n",
       " SchemaField('longitude', 'FLOAT', 'NULLABLE', None, (), None),\n",
       " SchemaField('location', 'STRING', 'NULLABLE', None, (), None)]"
      ]
     },
     "execution_count": 6,
     "metadata": {},
     "output_type": "execute_result"
    }
   ],
   "source": [
    "# Write the code to figure out the answer\n",
    "table_ref = dataset_ref.table(\"crime\")\n",
    "\n",
    "table = client.get_table(table_ref)\n",
    "table.schema"
   ]
  },
  {
   "cell_type": "code",
   "execution_count": 7,
   "id": "4d254e22",
   "metadata": {
    "execution": {
     "iopub.execute_input": "2024-12-03T01:31:10.564022Z",
     "iopub.status.busy": "2024-12-03T01:31:10.563601Z",
     "iopub.status.idle": "2024-12-03T01:31:10.573028Z",
     "shell.execute_reply": "2024-12-03T01:31:10.571980Z"
    },
    "papermill": {
     "duration": 0.018114,
     "end_time": "2024-12-03T01:31:10.575333",
     "exception": false,
     "start_time": "2024-12-03T01:31:10.557219",
     "status": "completed"
    },
    "tags": []
   },
   "outputs": [
    {
     "data": {
      "application/javascript": [
       "parent.postMessage({\"jupyterEvent\": \"custom.exercise_interaction\", \"data\": {\"outcomeType\": 1, \"valueTowardsCompletion\": 0.3333333333333333, \"interactionType\": 1, \"questionType\": 1, \"questionId\": \"2_CountTimestampFields\", \"learnToolsVersion\": \"0.3.4\", \"failureMessage\": \"\", \"exceptionClass\": \"\", \"trace\": \"\"}}, \"*\")"
      ],
      "text/plain": [
       "<IPython.core.display.Javascript object>"
      ]
     },
     "metadata": {},
     "output_type": "display_data"
    },
    {
     "data": {
      "text/markdown": [
       "<span style=\"color:#33cc33\">Correct</span>"
      ],
      "text/plain": [
       "Correct"
      ]
     },
     "metadata": {},
     "output_type": "display_data"
    }
   ],
   "source": [
    "num_timestamp_fields = 2 # Put your answer here\n",
    "\n",
    "# Check your answer\n",
    "q_2.check()"
   ]
  },
  {
   "cell_type": "markdown",
   "id": "7a2d8e0d",
   "metadata": {
    "papermill": {
     "duration": 0.004878,
     "end_time": "2024-12-03T01:31:10.585704",
     "exception": false,
     "start_time": "2024-12-03T01:31:10.580826",
     "status": "completed"
    },
    "tags": []
   },
   "source": [
    "For a hint or the solution, uncomment the appropriate line below."
   ]
  },
  {
   "cell_type": "code",
   "execution_count": 8,
   "id": "e70954b4",
   "metadata": {
    "execution": {
     "iopub.execute_input": "2024-12-03T01:31:10.598746Z",
     "iopub.status.busy": "2024-12-03T01:31:10.597760Z",
     "iopub.status.idle": "2024-12-03T01:31:10.602321Z",
     "shell.execute_reply": "2024-12-03T01:31:10.601319Z"
    },
    "papermill": {
     "duration": 0.013148,
     "end_time": "2024-12-03T01:31:10.604606",
     "exception": false,
     "start_time": "2024-12-03T01:31:10.591458",
     "status": "completed"
    },
    "tags": []
   },
   "outputs": [],
   "source": [
    "#q_2.hint()\n",
    "#q_2.solution()"
   ]
  },
  {
   "cell_type": "markdown",
   "id": "5d79f2ba",
   "metadata": {
    "papermill": {
     "duration": 0.005156,
     "end_time": "2024-12-03T01:31:10.615051",
     "exception": false,
     "start_time": "2024-12-03T01:31:10.609895",
     "status": "completed"
    },
    "tags": []
   },
   "source": [
    "### 3) Create a crime map\n",
    "\n",
    "If you wanted to create a map with a dot at the location of each crime, what are the names of the two fields you likely need to pull out of the `crime` table to plot the crimes on a map?"
   ]
  },
  {
   "cell_type": "code",
   "execution_count": 9,
   "id": "250e603d",
   "metadata": {
    "execution": {
     "iopub.execute_input": "2024-12-03T01:31:10.627705Z",
     "iopub.status.busy": "2024-12-03T01:31:10.627324Z",
     "iopub.status.idle": "2024-12-03T01:31:10.632415Z",
     "shell.execute_reply": "2024-12-03T01:31:10.631218Z"
    },
    "papermill": {
     "duration": 0.014404,
     "end_time": "2024-12-03T01:31:10.634651",
     "exception": false,
     "start_time": "2024-12-03T01:31:10.620247",
     "status": "completed"
    },
    "tags": []
   },
   "outputs": [],
   "source": [
    "# Write the code here to explore the data so you can find the answer"
   ]
  },
  {
   "cell_type": "code",
   "execution_count": 10,
   "id": "15ec652f",
   "metadata": {
    "execution": {
     "iopub.execute_input": "2024-12-03T01:31:10.647468Z",
     "iopub.status.busy": "2024-12-03T01:31:10.647077Z",
     "iopub.status.idle": "2024-12-03T01:31:10.656168Z",
     "shell.execute_reply": "2024-12-03T01:31:10.654891Z"
    },
    "papermill": {
     "duration": 0.01831,
     "end_time": "2024-12-03T01:31:10.658405",
     "exception": false,
     "start_time": "2024-12-03T01:31:10.640095",
     "status": "completed"
    },
    "tags": []
   },
   "outputs": [
    {
     "data": {
      "application/javascript": [
       "parent.postMessage({\"jupyterEvent\": \"custom.exercise_interaction\", \"data\": {\"outcomeType\": 1, \"valueTowardsCompletion\": 0.3333333333333333, \"interactionType\": 1, \"questionType\": 2, \"questionId\": \"3_IdentifyFieldsForPlotting\", \"learnToolsVersion\": \"0.3.4\", \"failureMessage\": \"\", \"exceptionClass\": \"\", \"trace\": \"\"}}, \"*\")"
      ],
      "text/plain": [
       "<IPython.core.display.Javascript object>"
      ]
     },
     "metadata": {},
     "output_type": "display_data"
    },
    {
     "data": {
      "text/markdown": [
       "<span style=\"color:#33cc33\">Correct</span>"
      ],
      "text/plain": [
       "Correct"
      ]
     },
     "metadata": {},
     "output_type": "display_data"
    }
   ],
   "source": [
    "fields_for_plotting = [\"latitude\", \"longitude\"] # Put your answers here\n",
    "\n",
    "# Check your answer\n",
    "q_3.check()"
   ]
  },
  {
   "cell_type": "markdown",
   "id": "014efb2f",
   "metadata": {
    "papermill": {
     "duration": 0.005131,
     "end_time": "2024-12-03T01:31:10.669508",
     "exception": false,
     "start_time": "2024-12-03T01:31:10.664377",
     "status": "completed"
    },
    "tags": []
   },
   "source": [
    "For a hint or the solution, uncomment the appropriate line below."
   ]
  },
  {
   "cell_type": "code",
   "execution_count": 11,
   "id": "fe889e08",
   "metadata": {
    "execution": {
     "iopub.execute_input": "2024-12-03T01:31:10.681797Z",
     "iopub.status.busy": "2024-12-03T01:31:10.681413Z",
     "iopub.status.idle": "2024-12-03T01:31:10.686202Z",
     "shell.execute_reply": "2024-12-03T01:31:10.685059Z"
    },
    "papermill": {
     "duration": 0.013849,
     "end_time": "2024-12-03T01:31:10.688774",
     "exception": false,
     "start_time": "2024-12-03T01:31:10.674925",
     "status": "completed"
    },
    "tags": []
   },
   "outputs": [],
   "source": [
    "#q_3.hint()\n",
    "#q_3.solution()"
   ]
  },
  {
   "cell_type": "markdown",
   "id": "863fa7d9",
   "metadata": {
    "papermill": {
     "duration": 0.005095,
     "end_time": "2024-12-03T01:31:10.699597",
     "exception": false,
     "start_time": "2024-12-03T01:31:10.694502",
     "status": "completed"
    },
    "tags": []
   },
   "source": [
    "Thinking about the question above, there are a few columns that appear to have geographic data. Look at a few values (with the `list_rows()` command) to see if you can determine their relationship.  Two columns will still be hard to interpret. But it should be obvious how the `location` column relates to `latitude` and `longitude`."
   ]
  },
  {
   "cell_type": "code",
   "execution_count": 12,
   "id": "cb2e1aea",
   "metadata": {
    "execution": {
     "iopub.execute_input": "2024-12-03T01:31:10.712231Z",
     "iopub.status.busy": "2024-12-03T01:31:10.711773Z",
     "iopub.status.idle": "2024-12-03T01:31:11.863410Z",
     "shell.execute_reply": "2024-12-03T01:31:11.862367Z"
    },
    "papermill": {
     "duration": 1.160727,
     "end_time": "2024-12-03T01:31:11.865834",
     "exception": false,
     "start_time": "2024-12-03T01:31:10.705107",
     "status": "completed"
    },
    "tags": []
   },
   "outputs": [
    {
     "data": {
      "text/html": [
       "<div>\n",
       "<style scoped>\n",
       "    .dataframe tbody tr th:only-of-type {\n",
       "        vertical-align: middle;\n",
       "    }\n",
       "\n",
       "    .dataframe tbody tr th {\n",
       "        vertical-align: top;\n",
       "    }\n",
       "\n",
       "    .dataframe thead th {\n",
       "        text-align: right;\n",
       "    }\n",
       "</style>\n",
       "<table border=\"1\" class=\"dataframe\">\n",
       "  <thead>\n",
       "    <tr style=\"text-align: right;\">\n",
       "      <th></th>\n",
       "      <th>latitude</th>\n",
       "      <th>longitude</th>\n",
       "      <th>location</th>\n",
       "    </tr>\n",
       "  </thead>\n",
       "  <tbody>\n",
       "    <tr>\n",
       "      <th>0</th>\n",
       "      <td>41.887850</td>\n",
       "      <td>-87.625611</td>\n",
       "      <td>(41.887849586, -87.625610638)</td>\n",
       "    </tr>\n",
       "    <tr>\n",
       "      <th>1</th>\n",
       "      <td>41.884488</td>\n",
       "      <td>-87.628380</td>\n",
       "      <td>(41.88448846, -87.628379953)</td>\n",
       "    </tr>\n",
       "    <tr>\n",
       "      <th>2</th>\n",
       "      <td>41.878864</td>\n",
       "      <td>-87.638503</td>\n",
       "      <td>(41.878864086, -87.638503099)</td>\n",
       "    </tr>\n",
       "    <tr>\n",
       "      <th>3</th>\n",
       "      <td>41.879420</td>\n",
       "      <td>-87.639683</td>\n",
       "      <td>(41.879420068, -87.639683148)</td>\n",
       "    </tr>\n",
       "    <tr>\n",
       "      <th>4</th>\n",
       "      <td>41.878931</td>\n",
       "      <td>-87.639586</td>\n",
       "      <td>(41.878931004, -87.639585621)</td>\n",
       "    </tr>\n",
       "  </tbody>\n",
       "</table>\n",
       "</div>"
      ],
      "text/plain": [
       "    latitude  longitude                       location\n",
       "0  41.887850 -87.625611  (41.887849586, -87.625610638)\n",
       "1  41.884488 -87.628380   (41.88448846, -87.628379953)\n",
       "2  41.878864 -87.638503  (41.878864086, -87.638503099)\n",
       "3  41.879420 -87.639683  (41.879420068, -87.639683148)\n",
       "4  41.878931 -87.639586  (41.878931004, -87.639585621)"
      ]
     },
     "execution_count": 12,
     "metadata": {},
     "output_type": "execute_result"
    }
   ],
   "source": [
    "# Scratch space for your code\n",
    "client.list_rows(table, max_results = 5, selected_fields = table.schema[19:22]).to_dataframe()"
   ]
  },
  {
   "cell_type": "markdown",
   "id": "5a350e91",
   "metadata": {
    "papermill": {
     "duration": 0.005618,
     "end_time": "2024-12-03T01:31:11.877324",
     "exception": false,
     "start_time": "2024-12-03T01:31:11.871706",
     "status": "completed"
    },
    "tags": []
   },
   "source": [
    "# Keep going\n",
    "\n",
    "You've looked at the schema, but you haven't yet done anything exciting with the data itself. Things get more interesting when you get to the data, so keep going to **[write your first SQL query](https://www.kaggle.com/dansbecker/select-from-where).**"
   ]
  },
  {
   "cell_type": "markdown",
   "id": "095a156d",
   "metadata": {
    "papermill": {
     "duration": 0.005276,
     "end_time": "2024-12-03T01:31:11.888089",
     "exception": false,
     "start_time": "2024-12-03T01:31:11.882813",
     "status": "completed"
    },
    "tags": []
   },
   "source": [
    "---\n",
    "\n",
    "\n",
    "\n",
    "\n",
    "*Have questions or comments? Visit the [course discussion forum](https://www.kaggle.com/learn/intro-to-sql/discussion) to chat with other learners.*"
   ]
  }
 ],
 "metadata": {
  "kaggle": {
   "accelerator": "none",
   "dataSources": [
    {
     "datasetId": 22090,
     "sourceId": 28376,
     "sourceType": "datasetVersion"
    },
    {
     "datasetId": 6057,
     "sourceId": 285982,
     "sourceType": "datasetVersion"
    }
   ],
   "isGpuEnabled": false,
   "isInternetEnabled": false,
   "language": "python",
   "sourceType": "notebook"
  },
  "kernelspec": {
   "display_name": "Python 3",
   "language": "python",
   "name": "python3"
  },
  "language_info": {
   "codemirror_mode": {
    "name": "ipython",
    "version": 3
   },
   "file_extension": ".py",
   "mimetype": "text/x-python",
   "name": "python",
   "nbconvert_exporter": "python",
   "pygments_lexer": "ipython3",
   "version": "3.10.14"
  },
  "papermill": {
   "default_parameters": {},
   "duration": 15.301401,
   "end_time": "2024-12-03T01:31:12.616715",
   "environment_variables": {},
   "exception": null,
   "input_path": "__notebook__.ipynb",
   "output_path": "__notebook__.ipynb",
   "parameters": {},
   "start_time": "2024-12-03T01:30:57.315314",
   "version": "2.6.0"
  }
 },
 "nbformat": 4,
 "nbformat_minor": 5
}
